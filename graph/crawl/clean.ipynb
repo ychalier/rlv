{
 "cells": [
  {
   "cell_type": "code",
   "execution_count": 8,
   "metadata": {},
   "outputs": [],
   "source": [
    "import networkx\n",
    "import re"
   ]
  },
  {
   "cell_type": "code",
   "execution_count": 15,
   "metadata": {},
   "outputs": [],
   "source": [
    "def clean_url(url):\n",
    "    url = re.sub(r\"https://atelier\\-mediatheque\\.rlv\\.eu/?\", r\"/\", url.strip())\n",
    "    if url.endswith(\"/\") and len(url) > 1:\n",
    "        return url[:-1]\n",
    "    return url\n",
    "\n",
    "edges = []\n",
    "with open(\"edges.tsv\", \"r\", encoding=\"utf8\") as file:\n",
    "    for line in file.readlines():\n",
    "        u, v = line.strip().split(\"\\t\")\n",
    "        edges.append((clean_url(u), clean_url(v)))"
   ]
  },
  {
   "cell_type": "code",
   "execution_count": 16,
   "metadata": {},
   "outputs": [
    {
     "data": {
      "text/plain": [
       "(1328, 526)"
      ]
     },
     "execution_count": 16,
     "metadata": {},
     "output_type": "execute_result"
    }
   ],
   "source": [
    "edges_weights = dict()\n",
    "for edge in edges:\n",
    "    edges_weights.setdefault(edge, 0)\n",
    "    edges_weights[edge] += 1\n",
    "len(edges), len(edges_weights)"
   ]
  },
  {
   "cell_type": "code",
   "execution_count": 17,
   "metadata": {},
   "outputs": [],
   "source": [
    "graph = networkx.DiGraph()\n",
    "for (u, v), w in edges_weights.items():\n",
    "    graph.add_edge(u, v, weight=w)\n",
    "networkx.write_graphml(graph, \"blog.graphml\")"
   ]
  }
 ],
 "metadata": {
  "interpreter": {
   "hash": "238e0448fa9e1a254d09d722c47ce43c60664f33a5f393504a8c757f4ef8713f"
  },
  "kernelspec": {
   "display_name": "Python 3.9.5 64-bit (system)",
   "language": "python",
   "name": "python3"
  },
  "language_info": {
   "codemirror_mode": {
    "name": "ipython",
    "version": 3
   },
   "file_extension": ".py",
   "mimetype": "text/x-python",
   "name": "python",
   "nbconvert_exporter": "python",
   "pygments_lexer": "ipython3",
   "version": "3.9.5"
  },
  "orig_nbformat": 4
 },
 "nbformat": 4,
 "nbformat_minor": 2
}
