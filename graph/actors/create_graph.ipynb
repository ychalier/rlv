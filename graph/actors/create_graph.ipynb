{
 "cells": [
  {
   "cell_type": "code",
   "execution_count": 1,
   "metadata": {},
   "outputs": [],
   "source": [
    "import pandas\n",
    "import networkx"
   ]
  },
  {
   "cell_type": "code",
   "execution_count": 2,
   "metadata": {},
   "outputs": [
    {
     "data": {
      "text/plain": [
       "(51626, 10)"
      ]
     },
     "execution_count": 2,
     "metadata": {},
     "output_type": "execute_result"
    }
   ],
   "source": [
    "df = pandas.read_csv(\"data.csv\")\n",
    "df = df[df[\"startYear\"] >= \"2000\"] \n",
    "df.shape"
   ]
  },
  {
   "cell_type": "code",
   "execution_count": 3,
   "metadata": {},
   "outputs": [
    {
     "data": {
      "text/plain": [
       "51626"
      ]
     },
     "execution_count": 3,
     "metadata": {},
     "output_type": "execute_result"
    }
   ],
   "source": [
    "edges = list()\n",
    "for _, row in df.iterrows():\n",
    "    edges.append((f'{row[\"title\"]} ({row[\"startYear\"]})', f'{row[\"primaryName\"]}'))\n",
    "len(edges)"
   ]
  },
  {
   "cell_type": "code",
   "execution_count": 4,
   "metadata": {},
   "outputs": [
    {
     "name": "stdout",
     "output_type": "stream",
     "text": [
      "......."
     ]
    },
    {
     "data": {
      "text/plain": [
       "23210"
      ]
     },
     "execution_count": 4,
     "metadata": {},
     "output_type": "execute_result"
    }
   ],
   "source": [
    "# Filter actors with at leat 10 movies\n",
    "# v_count = dict()\n",
    "# for u, v in edges:\n",
    "#     v_count.setdefault(v, 0)\n",
    "#     v_count[v] += 1\n",
    "# edges = [\n",
    "#     (u, v)\n",
    "#     for u, v in edges\n",
    "#     if v_count[v] >= 10\n",
    "# ]\n",
    "\n",
    "# Remove outliers\n",
    "while True:\n",
    "    print(\".\", end=\"\")\n",
    "    u_count = dict()\n",
    "    for u, v in edges:\n",
    "        u_count.setdefault(u, 0)\n",
    "        u_count[u] += 1\n",
    "    if 1 in u_count.values():\n",
    "        edges = [\n",
    "            (u, v)\n",
    "            for u, v in edges\n",
    "            if u_count[u] > 1\n",
    "        ]\n",
    "        v_count = dict()\n",
    "        for u, v in edges:\n",
    "            v_count.setdefault(v, 0)\n",
    "            v_count[v] += 1\n",
    "        if 1 in v_count.values():\n",
    "            edges = [\n",
    "                (u, v)\n",
    "                for u, v in edges\n",
    "                if v_count[v] > 1\n",
    "            ]\n",
    "        else:\n",
    "            break\n",
    "    else:\n",
    "        break\n",
    "\n",
    "len(edges)"
   ]
  },
  {
   "cell_type": "code",
   "execution_count": 5,
   "metadata": {},
   "outputs": [],
   "source": [
    "graph = networkx.Graph()\n",
    "for u, v in edges:\n",
    "    graph.add_edge(u, v)\n",
    "\n",
    "networkx.write_graphml(graph, \"actors.graphml\")"
   ]
  },
  {
   "cell_type": "code",
   "execution_count": 6,
   "metadata": {},
   "outputs": [],
   "source": [
    "graph_projected = networkx.Graph()\n",
    "actors_grouped_by_movie = dict()\n",
    "for u, v in edges:\n",
    "    actors_grouped_by_movie.setdefault(u, set())\n",
    "    actors_grouped_by_movie[u].add(v)\n",
    "for u in actors_grouped_by_movie:\n",
    "    for v in actors_grouped_by_movie[u]:\n",
    "        for w in actors_grouped_by_movie[u]:\n",
    "            if v == w or v < w:\n",
    "                continue\n",
    "            graph_projected.add_edge(v, w, label=u)\n",
    "networkx.write_graphml(graph_projected, \"actors.projected.graphml\")"
   ]
  }
 ],
 "metadata": {
  "interpreter": {
   "hash": "238e0448fa9e1a254d09d722c47ce43c60664f33a5f393504a8c757f4ef8713f"
  },
  "kernelspec": {
   "display_name": "Python 3.9.5 64-bit (system)",
   "language": "python",
   "name": "python3"
  },
  "language_info": {
   "codemirror_mode": {
    "name": "ipython",
    "version": 3
   },
   "file_extension": ".py",
   "mimetype": "text/x-python",
   "name": "python",
   "nbconvert_exporter": "python",
   "pygments_lexer": "ipython3",
   "version": "3.9.5"
  },
  "orig_nbformat": 4
 },
 "nbformat": 4,
 "nbformat_minor": 2
}
