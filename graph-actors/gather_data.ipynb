{
 "cells": [
  {
   "cell_type": "code",
   "execution_count": 1,
   "metadata": {},
   "outputs": [],
   "source": [
    "import pandas"
   ]
  },
  {
   "cell_type": "markdown",
   "metadata": {},
   "source": [
    "# Gather Data\n",
    "\n",
    "[Download datasets from IMDB.](https://datasets.imdbws.com/)\n",
    "\n",
    "Below is an extract of IMDB's [documentation](https://www.imdb.com/interfaces/).\n",
    "\n",
    "**title.basics.tsv.gz** - Contains the following information for titles:\n",
    "\n",
    "- tconst (string) - alphanumeric unique identifier of the title\n",
    "- titleType (string) – the type/format of the title (e.g. movie, short, tvseries, tvepisode, video, etc)\n",
    "- primaryTitle (string) – the more popular title / the title used by the filmmakers on promotional materials at the point of release\n",
    "- originalTitle (string) - original title, in the original language\n",
    "- isAdult (boolean) - 0: non-adult title; 1: adult title\n",
    "- startYear (YYYY) – represents the release year of a title. In the case of TV Series, it is the series start year\n",
    "- endYear (YYYY) – TV Series end year. ‘\\N’ for all other title types\n",
    "- runtimeMinutes – primary runtime of the title, in minutes\n",
    "- genres (string array) – includes up to three genres associated with the title\n",
    "\n",
    "**title.akas.tsv.gz** - Contains the following information for titles:\n",
    "\n",
    "- titleId (string) - a tconst, an alphanumeric unique identifier of the title\n",
    "- ordering (integer) – a number to uniquely identify rows for a given titleId\n",
    "- title (string) – the localized title\n",
    "- region (string) - the region for this version of the title\n",
    "- language (string) - the language of the title\n",
    "- types (array) - Enumerated set of attributes for this alternative title. One or more of the following: \"alternative\", \"dvd\", \"festival\", \"tv\", \"video\", \"working\", \"original\", \"imdbDisplay\". New values may be added in the future without warning\n",
    "- attributes (array) - Additional terms to describe this alternative title, not enumerated\n",
    "- isOriginalTitle (boolean) – 0: not original title; 1: original title\n",
    "\n",
    "**title.principals.tsv.gz** – Contains the principal cast/crew for titles\n",
    "\n",
    "- tconst (string) - alphanumeric unique identifier of the title\n",
    "- ordering (integer) – a number to uniquely identify rows for a given titleId\n",
    "- nconst (string) - alphanumeric unique identifier of the name/person\n",
    "- category (string) - the category of job that person was in\n",
    "- job (string) - the specific job title if applicable, else '\\N'\n",
    "- characters (string) - the name of the character played if applicable, else '\\N'\n",
    "\n",
    "**name.basics.tsv.gz** – Contains the following information for names:\n",
    "- nconst (string) - alphanumeric unique identifier of the name/person\n",
    "- primaryName (string)– name by which the person is most often credited\n",
    "- birthYear – in YYYY format\n",
    "- deathYear – in YYYY format if applicable, else '\\N'\n",
    "- primaryProfession (array of strings)– the top-3 professions of the person\n",
    "- knownForTitles (array of tconsts) – titles the person is known for"
   ]
  },
  {
   "cell_type": "code",
   "execution_count": 2,
   "metadata": {},
   "outputs": [
    {
     "name": "stderr",
     "output_type": "stream",
     "text": [
      "C:\\Users\\yohan.chalier\\venv\\lib\\site-packages\\IPython\\core\\interactiveshell.py:3441: DtypeWarning: Columns (4,5) have mixed types.Specify dtype option on import or set low_memory=False.\n",
      "  exec(code_obj, self.user_global_ns, self.user_ns)\n"
     ]
    },
    {
     "data": {
      "text/plain": [
       "(595129, 8)"
      ]
     },
     "execution_count": 2,
     "metadata": {},
     "output_type": "execute_result"
    }
   ],
   "source": [
    "title_basics = pandas.read_csv(\"data/title.basics.tsv\", delimiter=\"\\t\").set_index(\"tconst\")\n",
    "title_basics = title_basics[(title_basics[\"titleType\"] == \"movie\") & (title_basics[\"isAdult\"] == 0)]\n",
    "title_basics.shape"
   ]
  },
  {
   "cell_type": "code",
   "execution_count": 3,
   "metadata": {},
   "outputs": [
    {
     "name": "stderr",
     "output_type": "stream",
     "text": [
      "C:\\Users\\yohan.chalier\\venv\\lib\\site-packages\\IPython\\core\\interactiveshell.py:3441: DtypeWarning: Columns (7) have mixed types.Specify dtype option on import or set low_memory=False.\n",
      "  exec(code_obj, self.user_global_ns, self.user_ns)\n"
     ]
    },
    {
     "data": {
      "text/plain": [
       "(141772, 7)"
      ]
     },
     "execution_count": 3,
     "metadata": {},
     "output_type": "execute_result"
    }
   ],
   "source": [
    "title_akas = pandas.read_csv(\"data/title.akas.tsv\", delimiter=\"\\t\")\n",
    "title_akas = title_akas[(title_akas[\"region\"] == \"FR\") & (title_akas[\"types\"] == \"imdbDisplay\")].set_index(\"titleId\")\n",
    "title_akas.shape"
   ]
  },
  {
   "cell_type": "code",
   "execution_count": 4,
   "metadata": {},
   "outputs": [
    {
     "data": {
      "text/plain": [
       "(11085656, 6)"
      ]
     },
     "execution_count": 4,
     "metadata": {},
     "output_type": "execute_result"
    }
   ],
   "source": [
    "title_principals = pandas.read_csv(\"data/title.principals.tsv\", delimiter=\"\\t\")\n",
    "title_principals = title_principals[title_principals[\"category\"] == \"actor\"]\n",
    "title_principals.shape"
   ]
  },
  {
   "cell_type": "code",
   "execution_count": 5,
   "metadata": {},
   "outputs": [
    {
     "data": {
      "text/plain": [
       "(11549682, 5)"
      ]
     },
     "execution_count": 5,
     "metadata": {},
     "output_type": "execute_result"
    }
   ],
   "source": [
    "name_basics = pandas.read_csv(\"data/name.basics.tsv\", delimiter=\"\\t\").set_index(\"nconst\")\n",
    "name_basics.shape"
   ]
  },
  {
   "cell_type": "code",
   "execution_count": 6,
   "metadata": {},
   "outputs": [
    {
     "data": {
      "text/plain": [
       "(117986, 10)"
      ]
     },
     "execution_count": 6,
     "metadata": {},
     "output_type": "execute_result"
    }
   ],
   "source": [
    "merged = pandas.merge(\n",
    "    left=pandas.merge(\n",
    "        left=title_principals[[\"tconst\", \"nconst\", \"characters\"]],\n",
    "        right=name_basics[[\"primaryName\", \"birthYear\", \"deathYear\"]],\n",
    "        left_on=\"nconst\",\n",
    "        right_index=True\n",
    "    ),\n",
    "    right=pandas.merge(\n",
    "        left=title_basics[[\"primaryTitle\", \"startYear\", \"genres\"]],\n",
    "        right=title_akas[[\"title\"]],\n",
    "        left_index=True,\n",
    "        right_index=True\n",
    "    ),\n",
    "    left_on=\"tconst\",\n",
    "    right_index=True\n",
    ")\n",
    "merged.shape"
   ]
  },
  {
   "cell_type": "code",
   "execution_count": 7,
   "metadata": {},
   "outputs": [
    {
     "data": {
      "text/html": [
       "<div>\n",
       "<style scoped>\n",
       "    .dataframe tbody tr th:only-of-type {\n",
       "        vertical-align: middle;\n",
       "    }\n",
       "\n",
       "    .dataframe tbody tr th {\n",
       "        vertical-align: top;\n",
       "    }\n",
       "\n",
       "    .dataframe thead th {\n",
       "        text-align: right;\n",
       "    }\n",
       "</style>\n",
       "<table border=\"1\" class=\"dataframe\">\n",
       "  <thead>\n",
       "    <tr style=\"text-align: right;\">\n",
       "      <th></th>\n",
       "      <th>tconst</th>\n",
       "      <th>nconst</th>\n",
       "      <th>characters</th>\n",
       "      <th>primaryName</th>\n",
       "      <th>birthYear</th>\n",
       "      <th>deathYear</th>\n",
       "      <th>primaryTitle</th>\n",
       "      <th>startYear</th>\n",
       "      <th>genres</th>\n",
       "      <th>title</th>\n",
       "    </tr>\n",
       "  </thead>\n",
       "  <tbody>\n",
       "    <tr>\n",
       "      <th>89929</th>\n",
       "      <td>tt0012927</td>\n",
       "      <td>nm0179163</td>\n",
       "      <td>[\"Panatella\"]</td>\n",
       "      <td>James J. Corbett</td>\n",
       "      <td>1866</td>\n",
       "      <td>1933</td>\n",
       "      <td>The Beauty Shop</td>\n",
       "      <td>1922</td>\n",
       "      <td>Comedy</td>\n",
       "      <td>Charlatan</td>\n",
       "    </tr>\n",
       "    <tr>\n",
       "      <th>89927</th>\n",
       "      <td>tt0012927</td>\n",
       "      <td>nm0386879</td>\n",
       "      <td>[\"Dr. Arbutus Budd\"]</td>\n",
       "      <td>Raymond Hitchcock</td>\n",
       "      <td>1865</td>\n",
       "      <td>1929</td>\n",
       "      <td>The Beauty Shop</td>\n",
       "      <td>1922</td>\n",
       "      <td>Comedy</td>\n",
       "      <td>Charlatan</td>\n",
       "    </tr>\n",
       "    <tr>\n",
       "      <th>89928</th>\n",
       "      <td>tt0012927</td>\n",
       "      <td>nm0888398</td>\n",
       "      <td>[\"Sobini\"]</td>\n",
       "      <td>Billy B. Van</td>\n",
       "      <td>1878</td>\n",
       "      <td>1950</td>\n",
       "      <td>The Beauty Shop</td>\n",
       "      <td>1922</td>\n",
       "      <td>Comedy</td>\n",
       "      <td>Charlatan</td>\n",
       "    </tr>\n",
       "    <tr>\n",
       "      <th>151789</th>\n",
       "      <td>tt0020403</td>\n",
       "      <td>nm0183823</td>\n",
       "      <td>[\"The Minister - Guillotine Sequence\"]</td>\n",
       "      <td>William Courtenay</td>\n",
       "      <td>1875</td>\n",
       "      <td>1933</td>\n",
       "      <td>Show of Shows</td>\n",
       "      <td>1929</td>\n",
       "      <td>Musical</td>\n",
       "      <td>La revue des revues</td>\n",
       "    </tr>\n",
       "    <tr>\n",
       "      <th>151791</th>\n",
       "      <td>tt0020403</td>\n",
       "      <td>nm0098376</td>\n",
       "      <td>[\"Executioner - Guillotine Sequence\"]</td>\n",
       "      <td>Hobart Bosworth</td>\n",
       "      <td>1867</td>\n",
       "      <td>1943</td>\n",
       "      <td>Show of Shows</td>\n",
       "      <td>1929</td>\n",
       "      <td>Musical</td>\n",
       "      <td>La revue des revues</td>\n",
       "    </tr>\n",
       "    <tr>\n",
       "      <th>...</th>\n",
       "      <td>...</td>\n",
       "      <td>...</td>\n",
       "      <td>...</td>\n",
       "      <td>...</td>\n",
       "      <td>...</td>\n",
       "      <td>...</td>\n",
       "      <td>...</td>\n",
       "      <td>...</td>\n",
       "      <td>...</td>\n",
       "      <td>...</td>\n",
       "    </tr>\n",
       "    <tr>\n",
       "      <th>49682432</th>\n",
       "      <td>tt9850378</td>\n",
       "      <td>nm7105632</td>\n",
       "      <td>[\"Doctor\"]</td>\n",
       "      <td>Dmitriy Shadrin</td>\n",
       "      <td>\\N</td>\n",
       "      <td>\\N</td>\n",
       "      <td>Man'najgy taptal</td>\n",
       "      <td>2015</td>\n",
       "      <td>Comedy</td>\n",
       "      <td>Premier amour</td>\n",
       "    </tr>\n",
       "    <tr>\n",
       "      <th>49735986</th>\n",
       "      <td>tt9868718</td>\n",
       "      <td>nm0546278</td>\n",
       "      <td>[\"Man Ray\"]</td>\n",
       "      <td>Marc Marder</td>\n",
       "      <td>\\N</td>\n",
       "      <td>\\N</td>\n",
       "      <td>Man Ray et les équations shakespeariennes</td>\n",
       "      <td>\\N</td>\n",
       "      <td>Documentary</td>\n",
       "      <td>Man Ray et les équations shakespeariennes</td>\n",
       "    </tr>\n",
       "    <tr>\n",
       "      <th>49762194</th>\n",
       "      <td>tt9879926</td>\n",
       "      <td>nm1300879</td>\n",
       "      <td>[\"Presentator\"]</td>\n",
       "      <td>Philippe Manoeuvre</td>\n",
       "      <td>1954</td>\n",
       "      <td>\\N</td>\n",
       "      <td>Rebel anthology</td>\n",
       "      <td>2012</td>\n",
       "      <td>Documentary</td>\n",
       "      <td>Rebel anthology</td>\n",
       "    </tr>\n",
       "    <tr>\n",
       "      <th>49808020</th>\n",
       "      <td>tt9896284</td>\n",
       "      <td>nm11380141</td>\n",
       "      <td>[\"David\"]</td>\n",
       "      <td>James Hemerson</td>\n",
       "      <td>\\N</td>\n",
       "      <td>\\N</td>\n",
       "      <td>Who are you?</td>\n",
       "      <td>\\N</td>\n",
       "      <td>Drama</td>\n",
       "      <td>Who are you?</td>\n",
       "    </tr>\n",
       "    <tr>\n",
       "      <th>49821392</th>\n",
       "      <td>tt9901352</td>\n",
       "      <td>nm10488220</td>\n",
       "      <td>[\"Hamlet\"]</td>\n",
       "      <td>Aidan Amore</td>\n",
       "      <td>\\N</td>\n",
       "      <td>\\N</td>\n",
       "      <td>Hamlet Poem Unlimited</td>\n",
       "      <td>2018</td>\n",
       "      <td>Drama</td>\n",
       "      <td>Hamlet Poem Unlimited</td>\n",
       "    </tr>\n",
       "  </tbody>\n",
       "</table>\n",
       "<p>117986 rows × 10 columns</p>\n",
       "</div>"
      ],
      "text/plain": [
       "             tconst      nconst                              characters  \\\n",
       "89929     tt0012927   nm0179163                           [\"Panatella\"]   \n",
       "89927     tt0012927   nm0386879                    [\"Dr. Arbutus Budd\"]   \n",
       "89928     tt0012927   nm0888398                              [\"Sobini\"]   \n",
       "151789    tt0020403   nm0183823  [\"The Minister - Guillotine Sequence\"]   \n",
       "151791    tt0020403   nm0098376   [\"Executioner - Guillotine Sequence\"]   \n",
       "...             ...         ...                                     ...   \n",
       "49682432  tt9850378   nm7105632                              [\"Doctor\"]   \n",
       "49735986  tt9868718   nm0546278                             [\"Man Ray\"]   \n",
       "49762194  tt9879926   nm1300879                         [\"Presentator\"]   \n",
       "49808020  tt9896284  nm11380141                               [\"David\"]   \n",
       "49821392  tt9901352  nm10488220                              [\"Hamlet\"]   \n",
       "\n",
       "                 primaryName birthYear deathYear  \\\n",
       "89929       James J. Corbett      1866      1933   \n",
       "89927      Raymond Hitchcock      1865      1929   \n",
       "89928           Billy B. Van      1878      1950   \n",
       "151789     William Courtenay      1875      1933   \n",
       "151791       Hobart Bosworth      1867      1943   \n",
       "...                      ...       ...       ...   \n",
       "49682432     Dmitriy Shadrin        \\N        \\N   \n",
       "49735986         Marc Marder        \\N        \\N   \n",
       "49762194  Philippe Manoeuvre      1954        \\N   \n",
       "49808020      James Hemerson        \\N        \\N   \n",
       "49821392         Aidan Amore        \\N        \\N   \n",
       "\n",
       "                                       primaryTitle startYear       genres  \\\n",
       "89929                               The Beauty Shop      1922       Comedy   \n",
       "89927                               The Beauty Shop      1922       Comedy   \n",
       "89928                               The Beauty Shop      1922       Comedy   \n",
       "151789                                Show of Shows      1929      Musical   \n",
       "151791                                Show of Shows      1929      Musical   \n",
       "...                                             ...       ...          ...   \n",
       "49682432                           Man'najgy taptal      2015       Comedy   \n",
       "49735986  Man Ray et les équations shakespeariennes        \\N  Documentary   \n",
       "49762194                            Rebel anthology      2012  Documentary   \n",
       "49808020                               Who are you?        \\N        Drama   \n",
       "49821392                      Hamlet Poem Unlimited      2018        Drama   \n",
       "\n",
       "                                              title  \n",
       "89929                                     Charlatan  \n",
       "89927                                     Charlatan  \n",
       "89928                                     Charlatan  \n",
       "151789                          La revue des revues  \n",
       "151791                          La revue des revues  \n",
       "...                                             ...  \n",
       "49682432                              Premier amour  \n",
       "49735986  Man Ray et les équations shakespeariennes  \n",
       "49762194                            Rebel anthology  \n",
       "49808020                               Who are you?  \n",
       "49821392                      Hamlet Poem Unlimited  \n",
       "\n",
       "[117986 rows x 10 columns]"
      ]
     },
     "execution_count": 7,
     "metadata": {},
     "output_type": "execute_result"
    }
   ],
   "source": [
    "merged"
   ]
  },
  {
   "cell_type": "code",
   "execution_count": 8,
   "metadata": {},
   "outputs": [],
   "source": [
    "merged.to_csv(\"data.csv\", index=False)"
   ]
  }
 ],
 "metadata": {
  "interpreter": {
   "hash": "238e0448fa9e1a254d09d722c47ce43c60664f33a5f393504a8c757f4ef8713f"
  },
  "kernelspec": {
   "display_name": "Python 3.9.5 64-bit (system)",
   "language": "python",
   "name": "python3"
  },
  "language_info": {
   "codemirror_mode": {
    "name": "ipython",
    "version": 3
   },
   "file_extension": ".py",
   "mimetype": "text/x-python",
   "name": "python",
   "nbconvert_exporter": "python",
   "pygments_lexer": "ipython3",
   "version": "3.9.5"
  },
  "orig_nbformat": 4
 },
 "nbformat": 4,
 "nbformat_minor": 2
}
